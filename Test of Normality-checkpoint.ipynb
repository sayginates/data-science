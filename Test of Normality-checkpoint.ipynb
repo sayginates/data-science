{
 "cells": [
  {
   "cell_type": "code",
   "execution_count": 3,
   "metadata": {
    "collapsed": true
   },
   "outputs": [],
   "source": [
    "#https://www.rdocumentation.org\n",
    "#https://www.datacamp.com/community/tutorials/r-data-import-tutorial#csv\n",
    "#https://www.datacamp.com/community/tutorials/r-tutorial-read-excel-into-r\n",
    "#https://little-book-of-r-for-multivariate-analysis.readthedocs.io/en/latest/src/multivariateanalysis.html#multivariate-analysis\n",
    "\n",
    "setwd(\"C:/Work/training/ML\")\n"
   ]
  },
  {
   "cell_type": "code",
   "execution_count": 19,
   "metadata": {
    "collapsed": true
   },
   "outputs": [],
   "source": [
    "help(read.csv)"
   ]
  },
  {
   "cell_type": "code",
   "execution_count": 21,
   "metadata": {
    "collapsed": true
   },
   "outputs": [],
   "source": [
    "mydata = read.csv('MFA_patient.csv', header=TRUE, stringsAsFactors=TRUE, sep=',' , encoding = \"UTF-8\")"
   ]
  },
  {
   "cell_type": "code",
   "execution_count": 22,
   "metadata": {},
   "outputs": [
    {
     "data": {
      "text/html": [
       "<table>\n",
       "<thead><tr><th scope=col>X.U.FEFF.HastaNumber</th><th scope=col>Cinsiyet</th><th scope=col>Beck.Skor</th><th scope=col>Dominant.el</th><th scope=col>Eğitim.durumu</th><th scope=col>Hastalık.süresi</th><th scope=col>Liebowitz.skor...Kaygı.Kaçınma.</th><th scope=col>Nöbet.tipi</th><th scope=col>Yas</th></tr></thead>\n",
       "<tbody>\n",
       "\t<tr><td>1                                  </td><td>E                                  </td><td> 5                                 </td><td>sağ                                </td><td>ilkokul                            </td><td>8 yıl                              </td><td>35+24=59                           </td><td>JTKN                               </td><td>24                                 </td></tr>\n",
       "\t<tr><td>2                                  </td><td>K                                  </td><td>14                                 </td><td>sağ                                </td><td>ilkokul                            </td><td>13 yıl                             </td><td>41+41=82                           </td><td>JTKN                               </td><td>22                                 </td></tr>\n",
       "\t<tr><td>3                                  </td><td>K                                  </td><td>26                                 </td><td>sağ                                </td><td>ilkokul                            </td><td>13 yıl                             </td><td>47+44=91                           </td><td>absans, JTKN                       </td><td>43                                 </td></tr>\n",
       "\t<tr><td>4                                  </td><td>K                                  </td><td> 9                                 </td><td>sol                                </td><td>ortaokul                           </td><td>3 yıl                              </td><td>44+43=87                           </td><td>sağ fokal motor seconder jeneralize</td><td>52                                 </td></tr>\n",
       "\t<tr><td>5                                  </td><td>E                                  </td><td>19                                 </td><td>sağ                                </td><td>lise                               </td><td>12 yıl                             </td><td>57+51=108                          </td><td>KPN                                </td><td>25                                 </td></tr>\n",
       "\t<tr><td>6                                  </td><td>E                                  </td><td>27                                 </td><td>sağ                                </td><td>lise                               </td><td>3 yıl                              </td><td>54+53=107                          </td><td>KPN                                </td><td>27                                 </td></tr>\n",
       "</tbody>\n",
       "</table>\n"
      ],
      "text/latex": [
       "\\begin{tabular}{r|lllllllll}\n",
       " X.U.FEFF.HastaNumber & Cinsiyet & Beck.Skor & Dominant.el & Eğitim.durumu & Hastalık.süresi & Liebowitz.skor...Kaygı.Kaçınma. & Nöbet.tipi & Yas\\\\\n",
       "\\hline\n",
       "\t 1                                   & E                                   &  5                                  & sağ                                 & ilkokul                             & 8 yıl                               & 35+24=59                            & JTKN                                & 24                                 \\\\\n",
       "\t 2                                   & K                                   & 14                                  & sağ                                 & ilkokul                             & 13 yıl                              & 41+41=82                            & JTKN                                & 22                                 \\\\\n",
       "\t 3                                   & K                                   & 26                                  & sağ                                 & ilkokul                             & 13 yıl                              & 47+44=91                            & absans, JTKN                        & 43                                 \\\\\n",
       "\t 4                                   & K                                   &  9                                  & sol                                 & ortaokul                            & 3 yıl                               & 44+43=87                            & sağ fokal motor seconder jeneralize & 52                                 \\\\\n",
       "\t 5                                   & E                                   & 19                                  & sağ                                 & lise                                & 12 yıl                              & 57+51=108                           & KPN                                 & 25                                 \\\\\n",
       "\t 6                                   & E                                   & 27                                  & sağ                                 & lise                                & 3 yıl                               & 54+53=107                           & KPN                                 & 27                                 \\\\\n",
       "\\end{tabular}\n"
      ],
      "text/markdown": [
       "\n",
       "X.U.FEFF.HastaNumber | Cinsiyet | Beck.Skor | Dominant.el | Eğitim.durumu | Hastalık.süresi | Liebowitz.skor...Kaygı.Kaçınma. | Nöbet.tipi | Yas | \n",
       "|---|---|---|---|---|---|\n",
       "| 1                                   | E                                   |  5                                  | sağ                                 | ilkokul                             | 8 yıl                               | 35+24=59                            | JTKN                                | 24                                  | \n",
       "| 2                                   | K                                   | 14                                  | sağ                                 | ilkokul                             | 13 yıl                              | 41+41=82                            | JTKN                                | 22                                  | \n",
       "| 3                                   | K                                   | 26                                  | sağ                                 | ilkokul                             | 13 yıl                              | 47+44=91                            | absans, JTKN                        | 43                                  | \n",
       "| 4                                   | K                                   |  9                                  | sol                                 | ortaokul                            | 3 yıl                               | 44+43=87                            | sağ fokal motor seconder jeneralize | 52                                  | \n",
       "| 5                                   | E                                   | 19                                  | sağ                                 | lise                                | 12 yıl                              | 57+51=108                           | KPN                                 | 25                                  | \n",
       "| 6                                   | E                                   | 27                                  | sağ                                 | lise                                | 3 yıl                               | 54+53=107                           | KPN                                 | 27                                  | \n",
       "\n",
       "\n"
      ],
      "text/plain": [
       "  X.U.FEFF.HastaNumber Cinsiyet Beck.Skor Dominant.el Eğitim.durumu\n",
       "1 1                    E         5        sağ         ilkokul      \n",
       "2 2                    K        14        sağ         ilkokul      \n",
       "3 3                    K        26        sağ         ilkokul      \n",
       "4 4                    K         9        sol         ortaokul     \n",
       "5 5                    E        19        sağ         lise         \n",
       "6 6                    E        27        sağ         lise         \n",
       "  Hastalık.süresi Liebowitz.skor...Kaygı.Kaçınma.\n",
       "1 8 yıl           35+24=59                       \n",
       "2 13 yıl          41+41=82                       \n",
       "3 13 yıl          47+44=91                       \n",
       "4 3 yıl           44+43=87                       \n",
       "5 12 yıl          57+51=108                      \n",
       "6 3 yıl           54+53=107                      \n",
       "  Nöbet.tipi                          Yas\n",
       "1 JTKN                                24 \n",
       "2 JTKN                                22 \n",
       "3 absans, JTKN                        43 \n",
       "4 sağ fokal motor seconder jeneralize 52 \n",
       "5 KPN                                 25 \n",
       "6 KPN                                 27 "
      ]
     },
     "metadata": {},
     "output_type": "display_data"
    }
   ],
   "source": [
    "head(mydata)"
   ]
  },
  {
   "cell_type": "code",
   "execution_count": 23,
   "metadata": {},
   "outputs": [
    {
     "name": "stdout",
     "output_type": "stream",
     "text": [
      "'data.frame':\t150 obs. of  9 variables:\n",
      " $ X.U.FEFF.HastaNumber           : int  1 2 3 4 5 6 7 8 9 10 ...\n",
      " $ Cinsiyet                       : Factor w/ 2 levels \"E\",\"K\": 1 2 2 2 1 1 1 1 2 2 ...\n",
      " $ Beck.Skor                      : int  5 14 26 9 19 27 11 38 18 45 ...\n",
      " $ Dominant.el                    : Factor w/ 2 levels \"sağ\",\"sol\": 1 1 1 2 1 1 1 1 2 1 ...\n",
      " $ Eğitim.durumu                  : Factor w/ 5 levels \"ilkokul\",\"lise\",..: 1 1 1 4 2 2 1 1 4 1 ...\n",
      " $ Hastalık.süresi                : Factor w/ 43 levels \"1 yıl\",\"1,5 yıl\",..: 40 7 7 24 6 24 11 3 24 18 ...\n",
      " $ Liebowitz.skor...Kaygı.Kaçınma.: Factor w/ 132 levels \"24+24=48\",\"24+25=49\",..: 30 54 75 66 109 100 16 57 22 123 ...\n",
      " $ Nöbet.tipi                     : Factor w/ 20 levels \"1 kez JTKN, oksipital nöbet\",..: 10 10 3 19 14 14 14 4 10 14 ...\n",
      " $ Yas                            : int  24 22 43 52 25 27 45 31 23 35 ...\n"
     ]
    }
   ],
   "source": [
    "str(mydata)\n"
   ]
  },
  {
   "cell_type": "code",
   "execution_count": null,
   "metadata": {
    "collapsed": true
   },
   "outputs": [],
   "source": []
  },
  {
   "cell_type": "code",
   "execution_count": 25,
   "metadata": {},
   "outputs": [
    {
     "name": "stdout",
     "output_type": "stream",
     "text": [
      " Factor w/ 2 levels \"sağ\",\"sol\": 1 1 1 2 1 1 1 1 2 1 ...\n"
     ]
    }
   ],
   "source": [
    "str(mydata[,\"Dominant.el\"])"
   ]
  },
  {
   "cell_type": "code",
   "execution_count": 26,
   "metadata": {},
   "outputs": [
    {
     "data": {
      "text/plain": [
       " X.U.FEFF.HastaNumber Cinsiyet   Beck.Skor     Dominant.el    Eğitim.durumu\n",
       " Min.   :  1.00       E:56     Min.   : 0.00   sağ:128     ilkokul   :52   \n",
       " 1st Qu.: 38.25       K:94     1st Qu.: 5.25   sol: 22     lise      :43   \n",
       " Median :116.50                Median :12.00               okuryazar : 1   \n",
       " Mean   :104.83                Mean   :15.19               ortaokul  :21   \n",
       " 3rd Qu.:153.75                3rd Qu.:23.00               üniversite:33   \n",
       " Max.   :191.00                Max.   :54.00                               \n",
       "                                                                           \n",
       " Hastalık.süresi Liebowitz.skor...Kaygı.Kaçınma.           Nöbet.tipi \n",
       " 3 yıl  :14      25+24=49:  5                    JTKN           :105  \n",
       " 8 yıl  :11      35+24=59:  5                    KPN            : 13  \n",
       " 5 yıl  :10      24+24=48:  3                    BPN            :  8  \n",
       " 2 yıl  : 9      28+27=55:  2                    sol fokal motor:  4  \n",
       " 6 yıl  : 9      30+24=54:  2                    Absans         :  2  \n",
       " 12 yıl : 7      32+27=59:  2                    atonik nöbet   :  2  \n",
       " (Other):90      (Other) :131                    (Other)        : 16  \n",
       "      Yas       \n",
       " Min.   :18.00  \n",
       " 1st Qu.:25.00  \n",
       " Median :32.00  \n",
       " Mean   :34.17  \n",
       " 3rd Qu.:43.00  \n",
       " Max.   :66.00  \n",
       "                "
      ]
     },
     "metadata": {},
     "output_type": "display_data"
    }
   ],
   "source": [
    "summary(mydata)"
   ]
  },
  {
   "cell_type": "code",
   "execution_count": 29,
   "metadata": {},
   "outputs": [
    {
     "name": "stderr",
     "output_type": "stream",
     "text": [
      "Warning message:\n",
      "\"package 'ggplot2' was built under R version 3.4.3\""
     ]
    }
   ],
   "source": [
    "#Dağılımların incelenmesine geçelim. Öncelikle ggplot kullanmak için gerekli paketleri yükleyelim\n",
    "if(!require(\"ggplot2\", quietly = TRUE)) install.packages(\"ggplot2\",repos='http://cran.us.r-project.org')\n",
    "library(ggplot2, quietly = TRUE)"
   ]
  },
  {
   "cell_type": "code",
   "execution_count": 35,
   "metadata": {},
   "outputs": [
    {
     "data": {},
     "metadata": {},
     "output_type": "display_data"
    },
    {
     "data": {
      "image/png": "[encoded data removed]",
      "text/plain": [
       "plot without title"
      ]
     },
     "metadata": {},
     "output_type": "display_data"
    }
   ],
   "source": [
    "#Tüm örneklerin dağılımına bakalım.\n",
    "g<-ggplot(mydata, aes(Beck.Skor))\n",
    "g + geom_histogram(binwidth = 5)"
   ]
  },
  {
   "cell_type": "code",
   "execution_count": 34,
   "metadata": {},
   "outputs": [
    {
     "name": "stderr",
     "output_type": "stream",
     "text": [
      "`stat_bin()` using `bins = 30`. Pick better value with `binwidth`.\n"
     ]
    },
    {
     "data": {},
     "metadata": {},
     "output_type": "display_data"
    },
    {
     "data": {
      "image/png": "[encoded data removed]",
      "text/plain": [
       "plot without title"
      ]
     },
     "metadata": {},
     "output_type": "display_data"
    }
   ],
   "source": [
    "#Şimdi sadece belli bir grubun, örneğin Erkeklerin dağılımına bakalım. Bu sefer histogram kullanalım\n",
    "g<-ggplot(mydata, aes(Beck.Skor,colour=Cinsiyet))\n",
    "g + geom_freqpoly()"
   ]
  },
  {
   "cell_type": "code",
   "execution_count": 45,
   "metadata": {},
   "outputs": [
    {
     "data": {},
     "metadata": {},
     "output_type": "display_data"
    },
    {
     "data": {
      "image/png": "[encoded data removed]",
      "text/plain": [
       "plot without title"
      ]
     },
     "metadata": {},
     "output_type": "display_data"
    }
   ],
   "source": [
    "g<-ggplot(mydata, aes(Cinsiyet,Beck.Skor) ) \n",
    "g+ geom_point(aes(color=Cinsiyet, size=Beck.Skor))"
   ]
  },
  {
   "cell_type": "code",
   "execution_count": 28,
   "metadata": {},
   "outputs": [
    {
     "data": {
      "text/plain": [
       "\n",
       "\tShapiro-Wilk normality test\n",
       "\n",
       "data:  as.numeric(mydata[, \"Beck.Skor\"])\n",
       "W = 0.91899, p-value = 1.828e-07\n"
      ]
     },
     "metadata": {},
     "output_type": "display_data"
    }
   ],
   "source": [
    "#normality test. student-t testi için Verilerin normal dağılıma uyması gerekir. \n",
    "#P değeri 0.05 ten büyük ise normal dağılıma uyduğu söylenebilir\n",
    "shapiro.test(as.numeric(mydata[,\"Beck.Skor\"]))\n",
    "\n"
   ]
  },
  {
   "cell_type": "code",
   "execution_count": 70,
   "metadata": {},
   "outputs": [
    {
     "data": {
      "text/plain": [
       "   Min. 1st Qu.  Median    Mean 3rd Qu.    Max. \n",
       "   0.00    5.00   10.50   15.07   23.75   49.00 "
      ]
     },
     "metadata": {},
     "output_type": "display_data"
    }
   ],
   "source": [
    "men <-as.numeric(mydata[mydata[,\"Cinsiyet\"]==\"E\",\"Beck.Skor\"])\n",
    "summary(men)\n"
   ]
  },
  {
   "cell_type": "code",
   "execution_count": 73,
   "metadata": {},
   "outputs": [
    {
     "data": {
      "text/plain": [
       "   Min. 1st Qu.  Median    Mean 3rd Qu.    Max. \n",
       "   0.00    7.00   13.00   15.26   22.50   54.00 "
      ]
     },
     "metadata": {},
     "output_type": "display_data"
    }
   ],
   "source": [
    "women <- as.numeric(mydata[mydata[,\"Cinsiyet\"]==\"K\",\"Beck.Skor\"])\n",
    "summary(women)\n"
   ]
  },
  {
   "cell_type": "code",
   "execution_count": 78,
   "metadata": {
    "collapsed": true
   },
   "outputs": [],
   "source": [
    "if(!require(\"psych\", quietly = TRUE)) install.packages(\"psych\",repos='http://cran.us.r-project.org')\n",
    "   library(psych, quietly = TRUE)\n",
    "   "
   ]
  },
  {
   "cell_type": "code",
   "execution_count": 81,
   "metadata": {},
   "outputs": [
    {
     "data": {
      "text/html": [
       "<table>\n",
       "<thead><tr><th></th><th scope=col>vars</th><th scope=col>n</th><th scope=col>mean</th><th scope=col>sd</th><th scope=col>median</th><th scope=col>trimmed</th><th scope=col>mad</th><th scope=col>min</th><th scope=col>max</th><th scope=col>range</th><th scope=col>skew</th><th scope=col>kurtosis</th><th scope=col>se</th></tr></thead>\n",
       "<tbody>\n",
       "\t<tr><th scope=row>X1</th><td>1         </td><td>56        </td><td>15.07143  </td><td>12.56815  </td><td>10.5      </td><td>13.97826  </td><td>11.1195   </td><td>0         </td><td>49        </td><td>49        </td><td>0.7156035 </td><td>-0.5792772</td><td>1.67949   </td></tr>\n",
       "</tbody>\n",
       "</table>\n"
      ],
      "text/latex": [
       "\\begin{tabular}{r|lllllllllllll}\n",
       "  & vars & n & mean & sd & median & trimmed & mad & min & max & range & skew & kurtosis & se\\\\\n",
       "\\hline\n",
       "\tX1 & 1          & 56         & 15.07143   & 12.56815   & 10.5       & 13.97826   & 11.1195    & 0          & 49         & 49         & 0.7156035  & -0.5792772 & 1.67949   \\\\\n",
       "\\end{tabular}\n"
      ],
      "text/markdown": [
       "\n",
       "| <!--/--> | vars | n | mean | sd | median | trimmed | mad | min | max | range | skew | kurtosis | se | \n",
       "|---|\n",
       "| X1 | 1          | 56         | 15.07143   | 12.56815   | 10.5       | 13.97826   | 11.1195    | 0          | 49         | 49         | 0.7156035  | -0.5792772 | 1.67949    | \n",
       "\n",
       "\n"
      ],
      "text/plain": [
       "   vars n  mean     sd       median trimmed  mad     min max range skew     \n",
       "X1 1    56 15.07143 12.56815 10.5   13.97826 11.1195 0   49  49    0.7156035\n",
       "   kurtosis   se     \n",
       "X1 -0.5792772 1.67949"
      ]
     },
     "metadata": {},
     "output_type": "display_data"
    },
    {
     "data": {
      "text/html": [
       "<table>\n",
       "<thead><tr><th></th><th scope=col>vars</th><th scope=col>n</th><th scope=col>mean</th><th scope=col>sd</th><th scope=col>median</th><th scope=col>trimmed</th><th scope=col>mad</th><th scope=col>min</th><th scope=col>max</th><th scope=col>range</th><th scope=col>skew</th><th scope=col>kurtosis</th><th scope=col>se</th></tr></thead>\n",
       "<tbody>\n",
       "\t<tr><th scope=row>X1</th><td>1        </td><td>94       </td><td>15.25532 </td><td>12.13804 </td><td>13       </td><td>13.84211 </td><td>11.8608  </td><td>0        </td><td>54       </td><td>54       </td><td>1.054165 </td><td>0.7811682</td><td>1.251943 </td></tr>\n",
       "</tbody>\n",
       "</table>\n"
      ],
      "text/latex": [
       "\\begin{tabular}{r|lllllllllllll}\n",
       "  & vars & n & mean & sd & median & trimmed & mad & min & max & range & skew & kurtosis & se\\\\\n",
       "\\hline\n",
       "\tX1 & 1         & 94        & 15.25532  & 12.13804  & 13        & 13.84211  & 11.8608   & 0         & 54        & 54        & 1.054165  & 0.7811682 & 1.251943 \\\\\n",
       "\\end{tabular}\n"
      ],
      "text/markdown": [
       "\n",
       "| <!--/--> | vars | n | mean | sd | median | trimmed | mad | min | max | range | skew | kurtosis | se | \n",
       "|---|\n",
       "| X1 | 1         | 94        | 15.25532  | 12.13804  | 13        | 13.84211  | 11.8608   | 0         | 54        | 54        | 1.054165  | 0.7811682 | 1.251943  | \n",
       "\n",
       "\n"
      ],
      "text/plain": [
       "   vars n  mean     sd       median trimmed  mad     min max range skew    \n",
       "X1 1    94 15.25532 12.13804 13     13.84211 11.8608 0   54  54    1.054165\n",
       "   kurtosis  se      \n",
       "X1 0.7811682 1.251943"
      ]
     },
     "metadata": {},
     "output_type": "display_data"
    }
   ],
   "source": [
    "describe(men)\n",
    "describe(women)"
   ]
  },
  {
   "cell_type": "code",
   "execution_count": 82,
   "metadata": {},
   "outputs": [
    {
     "data": {
      "text/plain": [
       "\n",
       "\tWelch Two Sample t-test\n",
       "\n",
       "data:  men and women\n",
       "t = -0.087786, df = 112.55, p-value = 0.9302\n",
       "alternative hypothesis: true difference in means is not equal to 0\n",
       "95 percent confidence interval:\n",
       " -4.334180  3.966399\n",
       "sample estimates:\n",
       "mean of x mean of y \n",
       " 15.07143  15.25532 \n"
      ]
     },
     "metadata": {},
     "output_type": "display_data"
    }
   ],
   "source": [
    "#student-t test. \n",
    "t.test(men,women,paired=F,alternative =\"two.sided\")"
   ]
  },
  {
   "cell_type": "code",
   "execution_count": 67,
   "metadata": {},
   "outputs": [
    {
     "data": {
      "text/html": [
       "<ol class=list-inline>\n",
       "\t<li>14</li>\n",
       "\t<li>26</li>\n",
       "\t<li>9</li>\n",
       "\t<li>18</li>\n",
       "\t<li>45</li>\n",
       "\t<li>13</li>\n",
       "\t<li>9</li>\n",
       "\t<li>21</li>\n",
       "\t<li>2</li>\n",
       "\t<li>0</li>\n",
       "\t<li>54</li>\n",
       "\t<li>20</li>\n",
       "\t<li>25</li>\n",
       "\t<li>35</li>\n",
       "\t<li>13</li>\n",
       "\t<li>3</li>\n",
       "\t<li>52</li>\n",
       "\t<li>29</li>\n",
       "\t<li>10</li>\n",
       "\t<li>16</li>\n",
       "\t<li>13</li>\n",
       "\t<li>14</li>\n",
       "\t<li>28</li>\n",
       "\t<li>11</li>\n",
       "\t<li>7</li>\n",
       "\t<li>16</li>\n",
       "\t<li>9</li>\n",
       "\t<li>24</li>\n",
       "\t<li>5</li>\n",
       "\t<li>23</li>\n",
       "\t<li>10</li>\n",
       "\t<li>0</li>\n",
       "\t<li>5</li>\n",
       "\t<li>29</li>\n",
       "\t<li>10</li>\n",
       "\t<li>23</li>\n",
       "\t<li>30</li>\n",
       "\t<li>11</li>\n",
       "\t<li>27</li>\n",
       "\t<li>17</li>\n",
       "\t<li>15</li>\n",
       "\t<li>2</li>\n",
       "\t<li>18</li>\n",
       "\t<li>13</li>\n",
       "\t<li>0</li>\n",
       "\t<li>4</li>\n",
       "\t<li>12</li>\n",
       "\t<li>10</li>\n",
       "\t<li>31</li>\n",
       "\t<li>20</li>\n",
       "\t<li>16</li>\n",
       "\t<li>8</li>\n",
       "\t<li>0</li>\n",
       "\t<li>16</li>\n",
       "\t<li>12</li>\n",
       "\t<li>29</li>\n",
       "\t<li>11</li>\n",
       "\t<li>13</li>\n",
       "\t<li>0</li>\n",
       "\t<li>23</li>\n",
       "\t<li>4</li>\n",
       "\t<li>13</li>\n",
       "\t<li>10</li>\n",
       "\t<li>9</li>\n",
       "\t<li>18</li>\n",
       "\t<li>5</li>\n",
       "\t<li>37</li>\n",
       "\t<li>7</li>\n",
       "\t<li>12</li>\n",
       "\t<li>7</li>\n",
       "\t<li>3</li>\n",
       "\t<li>42</li>\n",
       "\t<li>1</li>\n",
       "\t<li>3</li>\n",
       "\t<li>24</li>\n",
       "\t<li>6</li>\n",
       "\t<li>41</li>\n",
       "\t<li>5</li>\n",
       "\t<li>11</li>\n",
       "\t<li>24</li>\n",
       "\t<li>3</li>\n",
       "\t<li>21</li>\n",
       "\t<li>1</li>\n",
       "\t<li>39</li>\n",
       "\t<li>35</li>\n",
       "\t<li>14</li>\n",
       "\t<li>15</li>\n",
       "\t<li>12</li>\n",
       "\t<li>7</li>\n",
       "\t<li>5</li>\n",
       "\t<li>8</li>\n",
       "\t<li>13</li>\n",
       "\t<li>0</li>\n",
       "\t<li>0</li>\n",
       "</ol>\n"
      ],
      "text/latex": [
       "\\begin{enumerate*}\n",
       "\\item 14\n",
       "\\item 26\n",
       "\\item 9\n",
       "\\item 18\n",
       "\\item 45\n",
       "\\item 13\n",
       "\\item 9\n",
       "\\item 21\n",
       "\\item 2\n",
       "\\item 0\n",
       "\\item 54\n",
       "\\item 20\n",
       "\\item 25\n",
       "\\item 35\n",
       "\\item 13\n",
       "\\item 3\n",
       "\\item 52\n",
       "\\item 29\n",
       "\\item 10\n",
       "\\item 16\n",
       "\\item 13\n",
       "\\item 14\n",
       "\\item 28\n",
       "\\item 11\n",
       "\\item 7\n",
       "\\item 16\n",
       "\\item 9\n",
       "\\item 24\n",
       "\\item 5\n",
       "\\item 23\n",
       "\\item 10\n",
       "\\item 0\n",
       "\\item 5\n",
       "\\item 29\n",
       "\\item 10\n",
       "\\item 23\n",
       "\\item 30\n",
       "\\item 11\n",
       "\\item 27\n",
       "\\item 17\n",
       "\\item 15\n",
       "\\item 2\n",
       "\\item 18\n",
       "\\item 13\n",
       "\\item 0\n",
       "\\item 4\n",
       "\\item 12\n",
       "\\item 10\n",
       "\\item 31\n",
       "\\item 20\n",
       "\\item 16\n",
       "\\item 8\n",
       "\\item 0\n",
       "\\item 16\n",
       "\\item 12\n",
       "\\item 29\n",
       "\\item 11\n",
       "\\item 13\n",
       "\\item 0\n",
       "\\item 23\n",
       "\\item 4\n",
       "\\item 13\n",
       "\\item 10\n",
       "\\item 9\n",
       "\\item 18\n",
       "\\item 5\n",
       "\\item 37\n",
       "\\item 7\n",
       "\\item 12\n",
       "\\item 7\n",
       "\\item 3\n",
       "\\item 42\n",
       "\\item 1\n",
       "\\item 3\n",
       "\\item 24\n",
       "\\item 6\n",
       "\\item 41\n",
       "\\item 5\n",
       "\\item 11\n",
       "\\item 24\n",
       "\\item 3\n",
       "\\item 21\n",
       "\\item 1\n",
       "\\item 39\n",
       "\\item 35\n",
       "\\item 14\n",
       "\\item 15\n",
       "\\item 12\n",
       "\\item 7\n",
       "\\item 5\n",
       "\\item 8\n",
       "\\item 13\n",
       "\\item 0\n",
       "\\item 0\n",
       "\\end{enumerate*}\n"
      ],
      "text/markdown": [
       "1. 14\n",
       "2. 26\n",
       "3. 9\n",
       "4. 18\n",
       "5. 45\n",
       "6. 13\n",
       "7. 9\n",
       "8. 21\n",
       "9. 2\n",
       "10. 0\n",
       "11. 54\n",
       "12. 20\n",
       "13. 25\n",
       "14. 35\n",
       "15. 13\n",
       "16. 3\n",
       "17. 52\n",
       "18. 29\n",
       "19. 10\n",
       "20. 16\n",
       "21. 13\n",
       "22. 14\n",
       "23. 28\n",
       "24. 11\n",
       "25. 7\n",
       "26. 16\n",
       "27. 9\n",
       "28. 24\n",
       "29. 5\n",
       "30. 23\n",
       "31. 10\n",
       "32. 0\n",
       "33. 5\n",
       "34. 29\n",
       "35. 10\n",
       "36. 23\n",
       "37. 30\n",
       "38. 11\n",
       "39. 27\n",
       "40. 17\n",
       "41. 15\n",
       "42. 2\n",
       "43. 18\n",
       "44. 13\n",
       "45. 0\n",
       "46. 4\n",
       "47. 12\n",
       "48. 10\n",
       "49. 31\n",
       "50. 20\n",
       "51. 16\n",
       "52. 8\n",
       "53. 0\n",
       "54. 16\n",
       "55. 12\n",
       "56. 29\n",
       "57. 11\n",
       "58. 13\n",
       "59. 0\n",
       "60. 23\n",
       "61. 4\n",
       "62. 13\n",
       "63. 10\n",
       "64. 9\n",
       "65. 18\n",
       "66. 5\n",
       "67. 37\n",
       "68. 7\n",
       "69. 12\n",
       "70. 7\n",
       "71. 3\n",
       "72. 42\n",
       "73. 1\n",
       "74. 3\n",
       "75. 24\n",
       "76. 6\n",
       "77. 41\n",
       "78. 5\n",
       "79. 11\n",
       "80. 24\n",
       "81. 3\n",
       "82. 21\n",
       "83. 1\n",
       "84. 39\n",
       "85. 35\n",
       "86. 14\n",
       "87. 15\n",
       "88. 12\n",
       "89. 7\n",
       "90. 5\n",
       "91. 8\n",
       "92. 13\n",
       "93. 0\n",
       "94. 0\n",
       "\n",
       "\n"
      ],
      "text/plain": [
       " [1] 14 26  9 18 45 13  9 21  2  0 54 20 25 35 13  3 52 29 10 16 13 14 28 11  7\n",
       "[26] 16  9 24  5 23 10  0  5 29 10 23 30 11 27 17 15  2 18 13  0  4 12 10 31 20\n",
       "[51] 16  8  0 16 12 29 11 13  0 23  4 13 10  9 18  5 37  7 12  7  3 42  1  3 24\n",
       "[76]  6 41  5 11 24  3 21  1 39 35 14 15 12  7  5  8 13  0  0"
      ]
     },
     "metadata": {},
     "output_type": "display_data"
    }
   ],
   "source": [
    "mydata[,\"Education\"] <- factor(mydata[,\"Eğitim.durumu\"],levels=c(\"okuryazar\",\"ilkokul\",\"ortaokul\",\"lise\",\"üniversite\")\n",
    "                                   ,labels=c(0,1,2,3,4),ordered =TRUE)\n"
   ]
  },
  {
   "cell_type": "code",
   "execution_count": 83,
   "metadata": {},
   "outputs": [
    {
     "data": {
      "text/plain": [
       "Call:\n",
       "   aov(formula = Beck.Skor ~ Cinsiyet, data = mydata)\n",
       "\n",
       "Terms:\n",
       "                 Cinsiyet Residuals\n",
       "Sum of Squares      1.187 22389.587\n",
       "Deg. of Freedom         1       148\n",
       "\n",
       "Residual standard error: 12.29963\n",
       "Estimated effects may be unbalanced"
      ]
     },
     "metadata": {},
     "output_type": "display_data"
    }
   ],
   "source": [
    "#ANOVA testleri https://www.statmethods.net/stats/anova.html\n",
    "# One Way Anova (Completely Randomized Design)\n",
    "fit <- aov(Beck.Skor ~ Cinsiyet, data=mydata)\n",
    "fit"
   ]
  },
  {
   "cell_type": "code",
   "execution_count": 86,
   "metadata": {},
   "outputs": [
    {
     "data": {
      "text/plain": [
       "Call:\n",
       "   aov(formula = Beck.Skor ~ Cinsiyet + Dominant.el, data = mydata)\n",
       "\n",
       "Terms:\n",
       "                 Cinsiyet Dominant.el Residuals\n",
       "Sum of Squares      1.187      16.949 22372.638\n",
       "Deg. of Freedom         1           1       147\n",
       "\n",
       "Residual standard error: 12.33673\n",
       "Estimated effects may be unbalanced"
      ]
     },
     "metadata": {},
     "output_type": "display_data"
    }
   ],
   "source": [
    "# Randomized Block Design (B is the blocking factor) \n",
    "fit <- aov(Beck.Skor ~ Cinsiyet + Dominant.el, data=mydata)\n",
    "fit\n"
   ]
  },
  {
   "cell_type": "code",
   "execution_count": 87,
   "metadata": {},
   "outputs": [
    {
     "data": {
      "text/plain": [
       "Call:\n",
       "   aov(formula = Beck.Skor ~ Cinsiyet * Dominant.el, data = mydata)\n",
       "\n",
       "Terms:\n",
       "                 Cinsiyet Dominant.el Cinsiyet:Dominant.el Residuals\n",
       "Sum of Squares      1.187      16.949               49.221 22323.417\n",
       "Deg. of Freedom         1           1                    1       146\n",
       "\n",
       "Residual standard error: 12.36528\n",
       "Estimated effects may be unbalanced"
      ]
     },
     "metadata": {},
     "output_type": "display_data"
    }
   ],
   "source": [
    "# Two Way Factorial Design \n",
    "fit <- aov(Beck.Skor ~ Cinsiyet * Dominant.el, data=mydata)\n",
    "fit\n"
   ]
  },
  {
   "cell_type": "code",
   "execution_count": 89,
   "metadata": {},
   "outputs": [
    {
     "data": {
      "text/plain": [
       "Call:\n",
       "   aov(formula = Beck.Skor ~ Cinsiyet + Yas, data = mydata)\n",
       "\n",
       "Terms:\n",
       "                 Cinsiyet       Yas Residuals\n",
       "Sum of Squares      1.187   211.421 22178.166\n",
       "Deg. of Freedom         1         1       147\n",
       "\n",
       "Residual standard error: 12.28299\n",
       "Estimated effects may be unbalanced"
      ]
     },
     "metadata": {},
     "output_type": "display_data"
    },
    {
     "data": {
      "image/png": "[encoded data removed]",
      "text/plain": [
       "Plot with title \"\""
      ]
     },
     "metadata": {},
     "output_type": "display_data"
    },
    {
     "data": {
      "image/png": "[encoded data removed]",
      "text/plain": [
       "Plot with title \"\""
      ]
     },
     "metadata": {},
     "output_type": "display_data"
    },
    {
     "data": {
      "image/png": "[encoded data removed]",
      "text/plain": [
       "Plot with title \"\""
      ]
     },
     "metadata": {},
     "output_type": "display_data"
    },
    {
     "data": {
      "image/png": "[encoded data removed]",
      "text/plain": [
       "Plot with title \"\""
      ]
     },
     "metadata": {},
     "output_type": "display_data"
    }
   ],
   "source": [
    "fit <- aov(Beck.Skor ~ Cinsiyet + Yas, data=mydata)\n",
    "fit\n",
    "plot(fit)"
   ]
  },
  {
   "cell_type": "code",
   "execution_count": 47,
   "metadata": {
    "collapsed": true
   },
   "outputs": [],
   "source": [
    "mydata[,\"Education\"] <- factor(mydata[,\"Eğitim.durumu\"],levels=c(\"okuryazar\",\"ilkokul\",\"ortaokul\",\"lise\",\"üniversite\")\n",
    "                                   ,labels=c(0,1,2,3,4),ordered =TRUE)\n"
   ]
  },
  {
   "cell_type": "code",
   "execution_count": 98,
   "metadata": {},
   "outputs": [
    {
     "name": "stdout",
     "output_type": "stream",
     "text": [
      "'data.frame':\t150 obs. of  3 variables:\n",
      " $ Yas      : int  24 22 43 52 25 27 45 31 23 35 ...\n",
      " $ Education: int  2 2 2 3 4 4 2 2 3 2 ...\n",
      " $ Cinsiyet : int  1 2 2 2 1 1 1 1 2 2 ...\n"
     ]
    }
   ],
   "source": [
    "mydata_int<-mydata[, c(\"Yas\",\"Education\" ,\"Cinsiyet\" )]\n",
    "mydata_int[,3] <- as.integer(factor(mydata_int[,3]))\n",
    "mydata_int[,2] <- as.integer(mydata_int[,2])\n",
    "str(mydata_int)\n"
   ]
  },
  {
   "cell_type": "code",
   "execution_count": 99,
   "metadata": {},
   "outputs": [
    {
     "data": {
      "text/html": [
       "<table>\n",
       "<thead><tr><th scope=col>Yas</th><th scope=col>Education</th><th scope=col>Cinsiyet</th></tr></thead>\n",
       "<tbody>\n",
       "\t<tr><td>24</td><td>2 </td><td>1 </td></tr>\n",
       "\t<tr><td>22</td><td>2 </td><td>2 </td></tr>\n",
       "\t<tr><td>43</td><td>2 </td><td>2 </td></tr>\n",
       "\t<tr><td>52</td><td>3 </td><td>2 </td></tr>\n",
       "\t<tr><td>25</td><td>4 </td><td>1 </td></tr>\n",
       "\t<tr><td>27</td><td>4 </td><td>1 </td></tr>\n",
       "</tbody>\n",
       "</table>\n"
      ],
      "text/latex": [
       "\\begin{tabular}{r|lll}\n",
       " Yas & Education & Cinsiyet\\\\\n",
       "\\hline\n",
       "\t 24 & 2  & 1 \\\\\n",
       "\t 22 & 2  & 2 \\\\\n",
       "\t 43 & 2  & 2 \\\\\n",
       "\t 52 & 3  & 2 \\\\\n",
       "\t 25 & 4  & 1 \\\\\n",
       "\t 27 & 4  & 1 \\\\\n",
       "\\end{tabular}\n"
      ],
      "text/markdown": [
       "\n",
       "Yas | Education | Cinsiyet | \n",
       "|---|---|---|---|---|---|\n",
       "| 24 | 2  | 1  | \n",
       "| 22 | 2  | 2  | \n",
       "| 43 | 2  | 2  | \n",
       "| 52 | 3  | 2  | \n",
       "| 25 | 4  | 1  | \n",
       "| 27 | 4  | 1  | \n",
       "\n",
       "\n"
      ],
      "text/plain": [
       "  Yas Education Cinsiyet\n",
       "1 24  2         1       \n",
       "2 22  2         2       \n",
       "3 43  2         2       \n",
       "4 52  3         2       \n",
       "5 25  4         1       \n",
       "6 27  4         1       "
      ]
     },
     "metadata": {},
     "output_type": "display_data"
    }
   ],
   "source": [
    "head(mydata_int)"
   ]
  },
  {
   "cell_type": "code",
   "execution_count": 101,
   "metadata": {},
   "outputs": [
    {
     "data": {
      "text/html": [
       "<table>\n",
       "<thead><tr><th></th><th scope=col>Yas</th><th scope=col>Education</th><th scope=col>Cinsiyet</th></tr></thead>\n",
       "<tbody>\n",
       "\t<tr><th scope=row>Yas</th><td> 1.0000000 </td><td>-0.25702408</td><td>-0.13105543</td></tr>\n",
       "\t<tr><th scope=row>Education</th><td>-0.2570241 </td><td> 1.00000000</td><td>-0.07517934</td></tr>\n",
       "\t<tr><th scope=row>Cinsiyet</th><td>-0.1310554 </td><td>-0.07517934</td><td> 1.00000000</td></tr>\n",
       "</tbody>\n",
       "</table>\n"
      ],
      "text/latex": [
       "\\begin{tabular}{r|lll}\n",
       "  & Yas & Education & Cinsiyet\\\\\n",
       "\\hline\n",
       "\tYas &  1.0000000  & -0.25702408 & -0.13105543\\\\\n",
       "\tEducation & -0.2570241  &  1.00000000 & -0.07517934\\\\\n",
       "\tCinsiyet & -0.1310554  & -0.07517934 &  1.00000000\\\\\n",
       "\\end{tabular}\n"
      ],
      "text/markdown": [
       "\n",
       "| <!--/--> | Yas | Education | Cinsiyet | \n",
       "|---|---|---|\n",
       "| Yas |  1.0000000  | -0.25702408 | -0.13105543 | \n",
       "| Education | -0.2570241  |  1.00000000 | -0.07517934 | \n",
       "| Cinsiyet | -0.1310554  | -0.07517934 |  1.00000000 | \n",
       "\n",
       "\n"
      ],
      "text/plain": [
       "          Yas        Education   Cinsiyet   \n",
       "Yas        1.0000000 -0.25702408 -0.13105543\n",
       "Education -0.2570241  1.00000000 -0.07517934\n",
       "Cinsiyet  -0.1310554 -0.07517934  1.00000000"
      ]
     },
     "metadata": {},
     "output_type": "display_data"
    }
   ],
   "source": [
    "cor(mydata_int)  "
   ]
  },
  {
   "cell_type": "code",
   "execution_count": 102,
   "metadata": {},
   "outputs": [
    {
     "data": {
      "image/png": "[encoded data removed]",
      "text/plain": [
       "Plot with title \"\""
      ]
     },
     "metadata": {},
     "output_type": "display_data"
    }
   ],
   "source": [
    "if (!require(\"corrplot\",  quietly = TRUE )) install.packages(\"corrplot\", repos='http://cran.us.r-project.org')\n",
    "library(corrplot)\n",
    "corrplot(cor(mydata_int),method =\"circle\" )"
   ]
  },
  {
   "cell_type": "code",
   "execution_count": null,
   "metadata": {
    "collapsed": true
   },
   "outputs": [],
   "source": []
  }
 ],
 "metadata": {
  "kernelspec": {
   "display_name": "R",
   "language": "R",
   "name": "ir"
  },
  "language_info": {
   "codemirror_mode": "r",
   "file_extension": ".r",
   "mimetype": "text/x-r-source",
   "name": "R",
   "pygments_lexer": "r",
   "version": "3.4.2"
  }
 },
 "nbformat": 4,
 "nbformat_minor": 2
}
